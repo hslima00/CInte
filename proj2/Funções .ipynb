{
 "cells": [
  {
   "cell_type": "code",
   "execution_count": 9,
   "metadata": {
    "scrolled": true
   },
   "outputs": [],
   "source": [
    "import pandas as pd"
   ]
  },
  {
   "cell_type": "code",
   "execution_count": 71,
   "metadata": {},
   "outputs": [],
   "source": [
    "CustDist_WHCentral = pd.read_csv(\"CustDist_WHCentral.csv\", sep=\",\", decimal=\".\")\n",
    "del CustDist_WHCentral[\"Distances between Customers and Warehouse\"]\n",
    "CustDist_WHCentral_list = CustDist_WHCentral.values.tolist()\n",
    "\n",
    "CustDist_WHCorner = pd.read_csv(\"CustDist_WHCorner.csv\", sep=\",\", decimal=\".\")\n",
    "del CustDist_WHCorner[\"Distances between Customers and Warehouse\"]\n",
    "CustDist_WHCorner_list = CustDist_WHCorner.values.tolist()\n",
    "\n",
    "CustOrd = pd.read_csv(\"CustOrd.csv\", sep=\",\", decimal=\".\")\n",
    "del CustOrd[\"Customer\"]\n",
    "CustOrd_list = CustOrd.values.tolist()"
   ]
  },
  {
   "cell_type": "code",
   "execution_count": 86,
   "metadata": {
    "scrolled": true
   },
   "outputs": [
    {
     "name": "stdout",
     "output_type": "stream",
     "text": [
      "[24, 9, 45, 40, 50, 14, 22, 5, 28, 29, 10, 43, 42, 13, 26, 18, 49, 47, 27, 1, 44, 35, 4, 2, 34, 23, 11, 37, 3, 48, 39, 19, 16, 25, 32, 36, 30, 15, 38, 8, 31, 21, 20, 33, 41, 46, 6, 12, 7, 17]\n"
     ]
    }
   ],
   "source": [
    "#just to test \n",
    "import random\n",
    "\n",
    "#creates the test list\n",
    "test_list = list(range(1, 51))\n",
    "\n",
    "#shuffles the list\n",
    "for i in range(1000):\n",
    "    index1 = random.randint(0,49)\n",
    "    index2 = random.randint(0,49)\n",
    "        \n",
    "    val1 = test_list[index1]\n",
    "    test_list[index1] = test_list[index2]\n",
    "    test_list[index2] = val1\n",
    "\n",
    "    \n",
    "print(test_list)"
   ]
  },
  {
   "cell_type": "code",
   "execution_count": 87,
   "metadata": {},
   "outputs": [],
   "source": [
    "def distance_traveled(path):\n",
    "    total_distance = 0 \n",
    "    load = 1000 \n",
    "    \n",
    "    for i in path:\n",
    "        #doesnt have enough load \n",
    "        if(load < CustOrd_list[i][0]):\n",
    "            #last location -> central\n",
    "            total_distance = total_distance + CustDist_WHCentral_list[0][i-1]\n",
    "            load = 1000\n",
    "            \n",
    "            #central -> next location\n",
    "            total_distance = total_distance + CustDist_WHCentral_list[0][i]\n",
    "            load = load - CustOrd_list[i][0]\n",
    "        \n",
    "        #last client\n",
    "        if(i == (len(path) - 1)):\n",
    "            #last location -> next location\n",
    "            total_distance = total_distance + CustDist_WHCentral_list[i][i-1]\n",
    "            load = load - CustOrd_list[i][0]\n",
    "            #next location -> warehouse\n",
    "            total_distance = total_distance + CustDist_WHCentral_list[i][0]\n",
    "        \n",
    "        #first client\n",
    "        if(i == 0):\n",
    "            #warehouse -> next location\n",
    "            total_distance = total_distance + CustDist_WHCentral_list[0][i]\n",
    "            load = load - CustOrd_list[i][0]\n",
    "        \n",
    "        #has enough load \n",
    "        else: \n",
    "            #last location -> next location\n",
    "            total_distance = total_distance + CustDist_WHCentral_list[i][i-1]\n",
    "            load = load - CustOrd_list[i][0]\n",
    "            \n",
    "    return total_distance  "
   ]
  },
  {
   "cell_type": "code",
   "execution_count": 88,
   "metadata": {},
   "outputs": [
    {
     "data": {
      "text/plain": [
       "2797"
      ]
     },
     "execution_count": 88,
     "metadata": {},
     "output_type": "execute_result"
    }
   ],
   "source": [
    "distance_traveled(test_list)\n",
    "\n"
   ]
  },
  {
   "cell_type": "code",
   "execution_count": null,
   "metadata": {},
   "outputs": [],
   "source": []
  }
 ],
 "metadata": {
  "kernelspec": {
   "display_name": "Python 3",
   "language": "python",
   "name": "python3"
  },
  "language_info": {
   "codemirror_mode": {
    "name": "ipython",
    "version": 3
   },
   "file_extension": ".py",
   "mimetype": "text/x-python",
   "name": "python",
   "nbconvert_exporter": "python",
   "pygments_lexer": "ipython3",
   "version": "3.7.6"
  }
 },
 "nbformat": 4,
 "nbformat_minor": 4
}

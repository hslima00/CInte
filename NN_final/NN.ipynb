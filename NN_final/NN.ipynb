{
 "cells": [
  {
   "cell_type": "markdown",
   "metadata": {},
   "source": [
    "# Split the project into steps\n",
    "\n",
    "1. Read the file\n",
    "2. Remove Outliers  \n",
    "   1. Quartiles\n",
    "   2. Deviation **(method used)**\n",
    "   3. By hand in special cases \n",
    "3. Normalization and standardization of the data\n",
    "   1. Z-Score\n",
    "   2. Min Max **(method used)**\n",
    "4. Split the data into train, test and validation sets\n",
    "5. Train the NN \n",
    "   1. KFold **(method used)**\n",
    "   2. Regular train with train set, validation and test set\n",
    "6. Adjust parameters"
   ]
  },
  {
   "cell_type": "markdown",
   "metadata": {},
   "source": [
    "# Import libs that we'll need for the project"
   ]
  },
  {
   "cell_type": "code",
   "execution_count": 1,
   "metadata": {},
   "outputs": [],
   "source": [
    "import pandas as pd\n",
    "import matplotlib.pyplot as plt\n",
    "from numpy import percentile\n",
    "import numpy as np\n",
    "from sklearn.preprocessing import MinMaxScaler\n",
    "import datetime\n",
    "import matplotlib.dates as mdates\n",
    "import operator\n",
    "from sklearn.datasets import make_hastie_10_2\n",
    "from sklearn.model_selection import GridSearchCV\n",
    "from sklearn.metrics import make_scorer\n",
    "from sklearn.metrics import accuracy_score\n",
    "from sklearn.tree import DecisionTreeClassifier\n",
    "import joblib\n",
    "\n",
    "#file created by us that has functions \n",
    "from funcs import * \n",
    "\n",
    "\n",
    "#just to remove the warnings\n",
    "def warn(*args, **kwargs):\n",
    "    pass\n",
    "import warnings\n",
    "warnings.warn = warn"
   ]
  },
  {
   "cell_type": "markdown",
   "metadata": {},
   "source": [
    "## Read the file and analyze data:"
   ]
  },
  {
   "cell_type": "code",
   "execution_count": 2,
   "metadata": {},
   "outputs": [],
   "source": [
    "data_df = pd.read_csv(\"Proj1_Dataset.csv\", sep=\",\", decimal=\".\")\n",
    "\n",
    "data_df=parse_date_time(data_df)\n",
    "\n",
    "data_df.to_csv(\"Proj1_Dataset_changed.csv\")\n",
    "\n",
    "\n",
    "#run to view the data\n",
    "#plot_data(data_df, temperature=True, CO2=True, PIR=True, light=True)\n",
    "#scatter_plot(data_df, temperature=True, C02_PIR=False, light=False)"
   ]
  },
  {
   "cell_type": "markdown",
   "metadata": {},
   "source": [
    "# Remove Outliers and Interpolate data\n"
   ]
  },
  {
   "cell_type": "code",
   "execution_count": 3,
   "metadata": {
    "scrolled": false
   },
   "outputs": [
    {
     "name": "stdout",
     "output_type": "stream",
     "text": [
      "             S1Temp        S2Temp        S3Temp       S1Light       S2Light  \\\n",
      "count  10128.000000  10127.000000  10129.000000  10129.000000  10129.000000   \n",
      "mean      20.424883     20.553337     20.003294     62.218185     58.250864   \n",
      "std        0.415856      0.663691      0.543616    131.357611    142.220513   \n",
      "min        0.000000     19.660000    -12.320000      0.000000      0.000000   \n",
      "25%       20.130000     20.140000     19.650000      0.000000      0.000000   \n",
      "50%       20.330000     20.340000     19.910000      0.000000      0.000000   \n",
      "75%       20.672500     20.700000     20.310000     28.000000     30.000000   \n",
      "max       21.380000     24.000000     21.180000   5500.000000    516.000000   \n",
      "\n",
      "            S3Light           CO2          PIR1          PIR2       Persons  \n",
      "count  10129.000000  10128.000000  10129.000000  10129.000000  10129.000000  \n",
      "mean      80.774706    474.081754      0.107612      0.094382      0.452068  \n",
      "std      661.501771    204.196690      0.309905      0.292375      0.940729  \n",
      "min        0.000000    345.000000      0.000000      0.000000      0.000000  \n",
      "25%        0.000000    355.000000      0.000000      0.000000      0.000000  \n",
      "50%        0.000000    360.000000      0.000000      0.000000      0.000000  \n",
      "75%      114.000000    531.250000      0.000000      0.000000      0.000000  \n",
      "max    65536.000000   1270.000000      1.000000      1.000000      3.000000  \n"
     ]
    }
   ],
   "source": [
    "print(data_df.describe())"
   ]
  },
  {
   "cell_type": "markdown",
   "metadata": {},
   "source": [
    "While using \"describe()\" we realized the following:\n",
    "\n",
    "- The dataframe is 10129 rows long and some values return a count of, for example, 10127 rows, therefore we need to fill in the data where this values are missing \n",
    "- If we look closely to the mean and max values of each collumn we realize that there are some outliers due to the discrepancy of the values. Due to the ammount of data we'll simply drop the entire row where the value is found. \n",
    "\n"
   ]
  },
  {
   "cell_type": "markdown",
   "metadata": {},
   "source": [
    "### Drop Outliners"
   ]
  },
  {
   "cell_type": "code",
   "execution_count": 4,
   "metadata": {},
   "outputs": [
    {
     "name": "stdout",
     "output_type": "stream",
     "text": [
      "Removed outlined from index  56 from  S1Temp with value of: 0.0\n",
      "Removed outlined from index  1188 from  S3Temp with value of: -12.32\n",
      "Removed outlined from index  3760 from  S1Light with value of: 5500\n",
      "Removed outlined from index  2800 from  S3Light with value of: 65536\n"
     ]
    }
   ],
   "source": [
    "data_df = drop_outliners(data_df, threshold=6,\n",
    "                         collumn_to_remove_outliers=\n",
    "                         [\"S1Temp\", \"S2Temp\",\"S3Temp\",\n",
    "                          \"CO2\",\"PIR1\", \"PIR2\",\"S1Light\",\n",
    "                           \"S2Light\",\"S3Light\"])\n"
   ]
  },
  {
   "cell_type": "markdown",
   "metadata": {},
   "source": [
    "### Interpolate NaN"
   ]
  },
  {
   "cell_type": "code",
   "execution_count": 5,
   "metadata": {},
   "outputs": [],
   "source": [
    "# interpolate NaN values\n",
    "data_df = data_df.interpolate(method='linear', limit_direction='forward', axis=0)\n",
    "\n",
    "\n",
    "#run to view the data with outliners removed\n",
    "#plot_data(data_df, temperature=True, CO2=True, PIR=True, light=True)\n",
    "#scatter_plot(data_df, temperature=True, C02_PIR=False, light=False)"
   ]
  },
  {
   "cell_type": "markdown",
   "metadata": {},
   "source": [
    "# Normalize data (min max method)"
   ]
  },
  {
   "cell_type": "code",
   "execution_count": 6,
   "metadata": {},
   "outputs": [],
   "source": [
    "# split into train and test sets\n",
    "from sklearn.model_selection import train_test_split\n",
    "\n",
    "# split into train and test sets\n",
    "train_val , test = train_test_split(data_df, test_size=0.15, shuffle=True, random_state=24)\n",
    "\n",
    "# split into input and output \n",
    "y_train_val = train_val['Persons']\n",
    "x_train_val = train_val.drop(['Persons'], axis=1)\n",
    "\n",
    "y_test = test['Persons']\n",
    "x_test = test.drop(['Persons'], axis=1)      \n",
    "\n",
    "\n",
    "# Normalize data with Min Max \n",
    "x_train_val, x_train_val_min, x_train_val_max = normalize_train_set(x_train_val)\n",
    "x_test = normalize_test_set(x_test, x_train_val_min, x_train_val_max)\n",
    "\n",
    "\n",
    "#drop columns we don't need\n",
    "x_train_val = x_train_val.drop(['DateTime'], axis=1)\n",
    "x_test = x_test.drop(['DateTime'], axis=1)\n"
   ]
  },
  {
   "cell_type": "markdown",
   "metadata": {},
   "source": [
    "# Train the NN (K-Fold method)"
   ]
  },
  {
   "cell_type": "code",
   "execution_count": 7,
   "metadata": {
    "scrolled": true
   },
   "outputs": [
    {
     "name": "stdout",
     "output_type": "stream",
     "text": [
      "accuracy of each fold - [0.9866434378629501, 0.9825682742591516, 0.9924462521789658, 0.990122022080186, 0.9889599070307961]\n",
      "precision of each fold - [0.9602620145932838, 0.9530357489599159, 0.9759864435792402, 0.9634234812806242, 0.9650149552119234]\n",
      "recall of each fold - [0.9600200014484893, 0.958604992167138, 0.9738773970923826, 0.9756049727726689, 0.9649533009096987]\n",
      "Avg accuracy : 0.98814797868241\n",
      "Avg precision : 0.9635445287249975\n",
      "Avg recall : 0.9666121328780756\n",
      "\n",
      "\n",
      "Accuracy: 0.9874917709019092\n",
      "Precision: 0.9591486241258729\n",
      "Recall: 0.9653408976707714\n",
      "Confusion:\n",
      " [[1189    3    0    0]\n",
      " [   2   59    0    0]\n",
      " [   0    0  150    9]\n",
      " [   0    0    5  102]]\n",
      "\n",
      "\n"
     ]
    }
   ],
   "source": [
    "# Train scikit NN\n",
    "from unittest import result\n",
    "from sklearn.neural_network import MLPClassifier\n",
    "from sklearn.metrics import accuracy_score, precision_score, recall_score, confusion_matrix, r2_score, f1_score, mean_absolute_error, mean_squared_error\n",
    "from sklearn.model_selection import KFold, cross_val_score\n",
    "\n",
    "\n",
    "\n",
    "#Implementing cross validation\n",
    "k = 5\n",
    "kf = KFold(n_splits=k, random_state=None)\n",
    "model = MLPClassifier(solver='sgd', alpha=1e-5, hidden_layer_sizes=([7,5]), random_state=21, learning_rate_init=0.04)\n",
    "\n",
    "\n",
    "acc_score = []\n",
    "press_score = []\n",
    "rec_score = []\n",
    "\n",
    "x = x_train_val\n",
    "y = y_train_val\n",
    "\n",
    "x_test = x_test\n",
    "y_test = y_test\n",
    "\n",
    "for train_index , test_index in kf.split(x):\n",
    "    x_train, x_val = x.iloc[train_index,:],x.iloc[test_index,:]\n",
    "    y_train , y_val = y.iloc[train_index] , y.iloc[test_index]\n",
    "     \n",
    "    model.fit(x_train,y_train)\n",
    "    pred_values = model.predict(x_val)\n",
    "     \n",
    "    acc = accuracy_score(pred_values , y_val)\n",
    "    press = precision_score(pred_values,  y_val, average='macro')\n",
    "    recall = recall_score(pred_values,  y_val, average='macro')\n",
    "    \n",
    "    acc_score.append(acc)\n",
    "    press_score.append(press)\n",
    "    rec_score.append(recall)\n",
    "     \n",
    "avg_acc_score = sum(acc_score)/k\n",
    "avg_press_score = sum(press_score)/k\n",
    "avg_recall_score = sum(rec_score)/k\n",
    "\n",
    " \n",
    "print('accuracy of each fold - {}'.format(acc_score))\n",
    "print('precision of each fold - {}'.format(press_score))\n",
    "print('recall of each fold - {}'.format(rec_score))\n",
    "\n",
    "\n",
    "print('Avg accuracy : {}'.format(avg_acc_score))\n",
    "print('Avg precision : {}'.format(avg_press_score))\n",
    "print('Avg recall : {}'.format(avg_recall_score))\n",
    "\n",
    "\n",
    "#test data \n",
    "y_pred = model.predict(x_test)\n",
    "\n",
    "print(\"\\n\")\n",
    "print(\"Accuracy:\",accuracy_score(y_test, y_pred))\n",
    "print(\"Precision:\",precision_score(y_test, y_pred, average='macro'))\n",
    "print(\"Recall:\",recall_score(y_test, y_pred, average='macro'))\n",
    "print(\"Confusion:\\n\",confusion_matrix(y_test, y_pred))    \n",
    "print(\"\\n\")\n"
   ]
  },
  {
   "cell_type": "markdown",
   "metadata": {},
   "source": [
    "# Export the model and min and max values (normalization)"
   ]
  },
  {
   "cell_type": "code",
   "execution_count": 8,
   "metadata": {},
   "outputs": [
    {
     "data": {
      "text/plain": [
       "['model.sav']"
      ]
     },
     "execution_count": 8,
     "metadata": {},
     "output_type": "execute_result"
    }
   ],
   "source": [
    "#exports max and min vector to file \n",
    "np.savetxt(\"min.txt\", x_train_val_min)\n",
    "np.savetxt(\"max.txt\", x_train_val_max)\n",
    "\n",
    "#exports model to file\n",
    "model_filename = 'model.sav'\n",
    "joblib.dump(model, model_filename)\n"
   ]
  },
  {
   "cell_type": "markdown",
   "metadata": {},
   "source": [
    "# Test the model with a certain file "
   ]
  },
  {
   "cell_type": "code",
   "execution_count": 5,
   "metadata": {},
   "outputs": [],
   "source": [
    "from TestMe import *"
   ]
  },
  {
   "cell_type": "code",
   "execution_count": 6,
   "metadata": {},
   "outputs": [
    {
     "name": "stdout",
     "output_type": "stream",
     "text": [
      "Removed outlined from index  56 from  S1Temp with value of: 0.0\n",
      "Removed outlined from index  1188 from  S3Temp with value of: -12.32\n",
      "Removed outlined from index  3760 from  S1Light with value of: 5500\n",
      "Removed outlined from index  2800 from  S3Light with value of: 65536\n",
      "\n",
      "\n",
      "Here's the confunsion matrix obtained\n",
      "[[7983    8    0    3]\n",
      " [   7  455    5    0]\n",
      " [   0    1  833   49]\n",
      " [   3    0   31  747]]\n",
      "\n",
      "\n",
      "Macro-Precision:   96.8211018593876 \n",
      "Macro-Recall:      96.81922410194345 \n",
      "Macro-F1:          96.81532260028611 \n",
      "\n",
      "\n",
      "Precision ( 0 persons):   99.8623967975982 %\n",
      "Precision ( 1 persons):   97.4304068522484 %\n",
      "Precision ( 2 persons):   94.3374858437146 %\n",
      "Precision ( 3 persons):   95.64660691421255 %\n",
      "\n",
      "\n",
      "Recall ( 0 persons):   99.87489052921306 %\n",
      "Recall ( 1 persons):   98.0603448275862 %\n",
      "Recall ( 2 persons):   95.8573072497123 %\n",
      "Recall ( 3 persons):   93.4918648310388 %\n"
     ]
    }
   ],
   "source": [
    "TestMe(\"proffunc.csv\")"
   ]
  },
  {
   "cell_type": "code",
   "execution_count": null,
   "metadata": {},
   "outputs": [],
   "source": []
  }
 ],
 "metadata": {
  "kernelspec": {
   "display_name": "Python 3",
   "language": "python",
   "name": "python3"
  },
  "language_info": {
   "codemirror_mode": {
    "name": "ipython",
    "version": 3
   },
   "file_extension": ".py",
   "mimetype": "text/x-python",
   "name": "python",
   "nbconvert_exporter": "python",
   "pygments_lexer": "ipython3",
   "version": "3.7.6"
  },
  "vscode": {
   "interpreter": {
    "hash": "916dbcbb3f70747c44a77c7bcd40155683ae19c65e1c03b4aa3499c5328201f1"
   }
  }
 },
 "nbformat": 4,
 "nbformat_minor": 2
}
